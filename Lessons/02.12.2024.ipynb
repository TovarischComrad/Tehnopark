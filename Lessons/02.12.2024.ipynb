{
  "nbformat": 4,
  "nbformat_minor": 0,
  "metadata": {
    "colab": {
      "provenance": []
    },
    "kernelspec": {
      "name": "python3",
      "display_name": "Python 3"
    },
    "language_info": {
      "name": "python"
    }
  },
  "cells": [
    {
      "cell_type": "code",
      "execution_count": 1,
      "metadata": {
        "id": "IeXJ6RnF-S1B"
      },
      "outputs": [],
      "source": [
        "import numpy as np"
      ]
    },
    {
      "cell_type": "code",
      "source": [
        "X = np.array([175, 180, 160, 200, 191, 167, 195, 182, 173, 174, 173, 200])"
      ],
      "metadata": {
        "id": "iDh7gT4T-hdk"
      },
      "execution_count": 2,
      "outputs": []
    },
    {
      "cell_type": "code",
      "source": [
        "X2 = np.random.normal(181, 12, size=100)"
      ],
      "metadata": {
        "id": "l5_P7gjtBjsR"
      },
      "execution_count": 28,
      "outputs": []
    },
    {
      "cell_type": "markdown",
      "source": [
        "$$\\overline{x} = \\frac{1}{n}\\sum_{i = 1}^n x_i$$"
      ],
      "metadata": {
        "id": "PgFzDZOLMaTT"
      }
    },
    {
      "cell_type": "code",
      "source": [
        "np.sum(X) / len(X)"
      ],
      "metadata": {
        "colab": {
          "base_uri": "https://localhost:8080/"
        },
        "id": "ZVJgCrFo-r_M",
        "outputId": "44b8a387-f8b1-4ca3-8d52-7f3e7179f800"
      },
      "execution_count": 4,
      "outputs": [
        {
          "output_type": "execute_result",
          "data": {
            "text/plain": [
              "180.83333333333334"
            ]
          },
          "metadata": {},
          "execution_count": 4
        }
      ]
    },
    {
      "cell_type": "code",
      "source": [
        "M = np.mean(X)"
      ],
      "metadata": {
        "id": "M_XiaDYZ-3dL"
      },
      "execution_count": 6,
      "outputs": []
    },
    {
      "cell_type": "markdown",
      "source": [
        "$$D = \\frac{1}{n}\\sum_{i = 1}^n (x_i - \\overline{x})^2$$"
      ],
      "metadata": {
        "id": "621990izMo2X"
      }
    },
    {
      "cell_type": "code",
      "source": [
        "D = np.sum((X - M) ** 2) / len(X)"
      ],
      "metadata": {
        "id": "wjCDFMDq_7_z"
      },
      "execution_count": 13,
      "outputs": []
    },
    {
      "cell_type": "markdown",
      "source": [
        "$$\\sigma = \\sqrt{D}$$"
      ],
      "metadata": {
        "id": "JhOJuyXVMv5X"
      }
    },
    {
      "cell_type": "code",
      "source": [
        "import math\n",
        "\n",
        "s = math.sqrt(D)\n",
        "s"
      ],
      "metadata": {
        "colab": {
          "base_uri": "https://localhost:8080/"
        },
        "id": "anbIKdi2AOmR",
        "outputId": "1d56b7ee-81ca-4228-c31d-e591ad4700e1"
      },
      "execution_count": 21,
      "outputs": [
        {
          "output_type": "execute_result",
          "data": {
            "text/plain": [
              "12.48220956223519"
            ]
          },
          "metadata": {},
          "execution_count": 21
        }
      ]
    },
    {
      "cell_type": "code",
      "source": [
        "M - s"
      ],
      "metadata": {
        "colab": {
          "base_uri": "https://localhost:8080/"
        },
        "id": "7i3VNuOLAzfF",
        "outputId": "f0a37fe0-7857-4582-d8af-7e48b85f14ab"
      },
      "execution_count": 16,
      "outputs": [
        {
          "output_type": "execute_result",
          "data": {
            "text/plain": [
              "168.35112377109814"
            ]
          },
          "metadata": {},
          "execution_count": 16
        }
      ]
    },
    {
      "cell_type": "code",
      "source": [
        "M + s"
      ],
      "metadata": {
        "colab": {
          "base_uri": "https://localhost:8080/"
        },
        "id": "he9ao8zYA1f-",
        "outputId": "a65e9c41-a773-4d0b-cdf4-e71b4c65164a"
      },
      "execution_count": 17,
      "outputs": [
        {
          "output_type": "execute_result",
          "data": {
            "text/plain": [
              "193.31554289556854"
            ]
          },
          "metadata": {},
          "execution_count": 17
        }
      ]
    },
    {
      "cell_type": "code",
      "source": [
        "import matplotlib.pyplot as plt\n",
        "\n",
        "plt.hist(X)"
      ],
      "metadata": {
        "colab": {
          "base_uri": "https://localhost:8080/",
          "height": 483
        },
        "id": "rimYcb_7BN08",
        "outputId": "8794717a-4c76-4e52-bfe8-10de6259c3f3"
      },
      "execution_count": 19,
      "outputs": [
        {
          "output_type": "execute_result",
          "data": {
            "text/plain": [
              "(array([1., 1., 0., 4., 0., 2., 0., 1., 1., 2.]),\n",
              " array([160., 164., 168., 172., 176., 180., 184., 188., 192., 196., 200.]),\n",
              " <BarContainer object of 10 artists>)"
            ]
          },
          "metadata": {},
          "execution_count": 19
        },
        {
          "output_type": "display_data",
          "data": {
            "text/plain": [
              "<Figure size 640x480 with 1 Axes>"
            ],
            "image/png": "[encoded data removed]"
          },
          "metadata": {}
        }
      ]
    },
    {
      "cell_type": "code",
      "source": [
        "plt.hist(X2)"
      ],
      "metadata": {
        "colab": {
          "base_uri": "https://localhost:8080/",
          "height": 519
        },
        "id": "8yUBpND9CQ57",
        "outputId": "2a578cd6-7527-4cac-d949-5482b92d7284"
      },
      "execution_count": 29,
      "outputs": [
        {
          "output_type": "execute_result",
          "data": {
            "text/plain": [
              "(array([ 2.,  5., 14., 18., 21., 17., 12.,  7.,  3.,  1.]),\n",
              " array([152.80279807, 158.83918919, 164.87558032, 170.91197145,\n",
              "        176.94836258, 182.9847537 , 189.02114483, 195.05753596,\n",
              "        201.09392709, 207.13031821, 213.16670934]),\n",
              " <BarContainer object of 10 artists>)"
            ]
          },
          "metadata": {},
          "execution_count": 29
        },
        {
          "output_type": "display_data",
          "data": {
            "text/plain": [
              "<Figure size 640x480 with 1 Axes>"
            ],
            "image/png": "[encoded data removed]"
          },
          "metadata": {}
        }
      ]
    },
    {
      "cell_type": "code",
      "source": [
        "X3 = np.random.uniform(0, 100, size=10000)"
      ],
      "metadata": {
        "id": "RqLr6YfsChWW"
      },
      "execution_count": 34,
      "outputs": []
    },
    {
      "cell_type": "code",
      "source": [
        "plt.hist(X3)"
      ],
      "metadata": {
        "colab": {
          "base_uri": "https://localhost:8080/",
          "height": 537
        },
        "id": "70DTdsD8Cp6u",
        "outputId": "3b40584d-46df-4db5-b13c-b5b00f9f80a6"
      },
      "execution_count": 35,
      "outputs": [
        {
          "output_type": "execute_result",
          "data": {
            "text/plain": [
              "(array([1061., 1004.,  993.,  985., 1041.,  939.,  965., 1010.,  982.,\n",
              "        1020.]),\n",
              " array([3.72768631e-04, 9.99980802e+00, 1.99992433e+01, 2.99986785e+01,\n",
              "        3.99981138e+01, 4.99975490e+01, 5.99969843e+01, 6.99964195e+01,\n",
              "        7.99958548e+01, 8.99952900e+01, 9.99947253e+01]),\n",
              " <BarContainer object of 10 artists>)"
            ]
          },
          "metadata": {},
          "execution_count": 35
        },
        {
          "output_type": "display_data",
          "data": {
            "text/plain": [
              "<Figure size 640x480 with 1 Axes>"
            ],
            "image/png": "[encoded data removed]"
          },
          "metadata": {}
        }
      ]
    },
    {
      "cell_type": "code",
      "source": [
        "X4 = np.random.exponential(2, size=1000)"
      ],
      "metadata": {
        "id": "WB7cozk1C5l9"
      },
      "execution_count": 36,
      "outputs": []
    },
    {
      "cell_type": "code",
      "source": [
        "plt.hist(X4)"
      ],
      "metadata": {
        "colab": {
          "base_uri": "https://localhost:8080/",
          "height": 519
        },
        "id": "6-gdFlRcDAH6",
        "outputId": "e5824833-5403-4c69-a8b3-a1ba7a7dc707"
      },
      "execution_count": 37,
      "outputs": [
        {
          "output_type": "execute_result",
          "data": {
            "text/plain": [
              "(array([490., 261., 123.,  70.,  25.,  17.,   7.,   4.,   0.,   3.]),\n",
              " array([3.24816246e-03, 1.36702734e+00, 2.73080652e+00, 4.09458570e+00,\n",
              "        5.45836488e+00, 6.82214406e+00, 8.18592324e+00, 9.54970242e+00,\n",
              "        1.09134816e+01, 1.22772608e+01, 1.36410400e+01]),\n",
              " <BarContainer object of 10 artists>)"
            ]
          },
          "metadata": {},
          "execution_count": 37
        },
        {
          "output_type": "display_data",
          "data": {
            "text/plain": [
              "<Figure size 640x480 with 1 Axes>"
            ],
            "image/png": "[encoded data removed]"
          },
          "metadata": {}
        }
      ]
    },
    {
      "cell_type": "code",
      "source": [
        "X = np.random.normal(180, 15, size=1000)\n",
        "Y = np.random.normal(65, 10, size=1000)"
      ],
      "metadata": {
        "id": "HxnKIH0FFKKf"
      },
      "execution_count": 50,
      "outputs": []
    },
    {
      "cell_type": "code",
      "source": [
        "X = np.array([1, 2, 3, 4, 5])\n",
        "Y = np.array([1, 3, 3, 5, 6])"
      ],
      "metadata": {
        "id": "N5zjfuupHYXC"
      },
      "execution_count": 71,
      "outputs": []
    },
    {
      "cell_type": "code",
      "source": [
        "Xm = np.mean(X)\n",
        "Ym = np.mean(Y)\n",
        "Ym"
      ],
      "metadata": {
        "colab": {
          "base_uri": "https://localhost:8080/"
        },
        "id": "Z4mTXfwrFsg8",
        "outputId": "3b2cc55c-b75c-4f17-fc2b-032f39293d80"
      },
      "execution_count": 72,
      "outputs": [
        {
          "output_type": "execute_result",
          "data": {
            "text/plain": [
              "3.6"
            ]
          },
          "metadata": {},
          "execution_count": 72
        }
      ]
    },
    {
      "cell_type": "markdown",
      "source": [
        "$$cov(X, Y) = \\frac{1}{n}\\sum_{i = 1}^n (x_i - \\overline{x})\\cdot(y_i - \\overline{y})$$"
      ],
      "metadata": {
        "id": "H2I53XznM5Fg"
      }
    },
    {
      "cell_type": "code",
      "source": [
        "cov = np.sum((X - Xm) * (Y - Ym)) / 5\n",
        "cov"
      ],
      "metadata": {
        "colab": {
          "base_uri": "https://localhost:8080/"
        },
        "id": "YeldtHqhFzuI",
        "outputId": "b8cf8b25-625d-45fa-e04a-0a5dcd5154dd"
      },
      "execution_count": 73,
      "outputs": [
        {
          "output_type": "execute_result",
          "data": {
            "text/plain": [
              "2.4"
            ]
          },
          "metadata": {},
          "execution_count": 73
        }
      ]
    },
    {
      "cell_type": "code",
      "source": [
        "Sx = np.std(X)\n",
        "Sy = np.std(Y)"
      ],
      "metadata": {
        "id": "xW-iAmFcGbht"
      },
      "execution_count": 74,
      "outputs": []
    },
    {
      "cell_type": "markdown",
      "source": [
        "$$r = \\frac{cov(X, Y)}{σ_X σ_Y}$$"
      ],
      "metadata": {
        "id": "vqIRNXxINDC1"
      }
    },
    {
      "cell_type": "code",
      "source": [
        "r = cov / (Sx * Sy)\n",
        "r"
      ],
      "metadata": {
        "colab": {
          "base_uri": "https://localhost:8080/"
        },
        "id": "eIOvd8qRGuva",
        "outputId": "bf24cd0c-788c-4334-e5b9-6c490f8c2dd7"
      },
      "execution_count": 75,
      "outputs": [
        {
          "output_type": "execute_result",
          "data": {
            "text/plain": [
              "0.9733285267845752"
            ]
          },
          "metadata": {},
          "execution_count": 75
        }
      ]
    },
    {
      "cell_type": "code",
      "source": [
        "X = np.random.normal(10, 2, size = 10)\n",
        "Y = np.random.uniform(6, 14, size = 10)"
      ],
      "metadata": {
        "id": "DhA_TNcYIUD2"
      },
      "execution_count": 76,
      "outputs": []
    },
    {
      "cell_type": "code",
      "source": [
        "X"
      ],
      "metadata": {
        "colab": {
          "base_uri": "https://localhost:8080/"
        },
        "id": "eyknlw29Ik4s",
        "outputId": "7e9cf8bb-474b-473f-b876-cb81707c531d"
      },
      "execution_count": 77,
      "outputs": [
        {
          "output_type": "execute_result",
          "data": {
            "text/plain": [
              "array([ 6.25667189,  9.70414585,  9.81031184,  7.99397253, 10.19929941,\n",
              "        5.06020653,  6.64273496, 11.06087664, 11.39134687,  4.8765057 ])"
            ]
          },
          "metadata": {},
          "execution_count": 77
        }
      ]
    },
    {
      "cell_type": "code",
      "source": [
        "Y"
      ],
      "metadata": {
        "colab": {
          "base_uri": "https://localhost:8080/"
        },
        "id": "ZnPVxFQMIllY",
        "outputId": "0c252f08-b60b-4d45-e2b7-bb247b53de8f"
      },
      "execution_count": 78,
      "outputs": [
        {
          "output_type": "execute_result",
          "data": {
            "text/plain": [
              "array([13.15247932, 12.74332796,  8.14029125, 12.36454386,  7.23296496,\n",
              "        8.18719531, 13.06704232, 12.50548294,  7.05058367, 11.04111212])"
            ]
          },
          "metadata": {},
          "execution_count": 78
        }
      ]
    },
    {
      "cell_type": "code",
      "source": [
        "Xm = np.mean(X)"
      ],
      "metadata": {
        "id": "d2v4Uiu1K-ou"
      },
      "execution_count": 83,
      "outputs": []
    },
    {
      "cell_type": "code",
      "source": [
        "Ym = np.mean(Y)"
      ],
      "metadata": {
        "id": "2Z_lIfkOLEyn"
      },
      "execution_count": 84,
      "outputs": []
    },
    {
      "cell_type": "code",
      "source": [
        "Xs = np.std(X)"
      ],
      "metadata": {
        "id": "Uxqdah2lLXRh"
      },
      "execution_count": 86,
      "outputs": []
    },
    {
      "cell_type": "code",
      "source": [
        "Ys = np.std(Y)"
      ],
      "metadata": {
        "id": "lMyiHfhfLgXm"
      },
      "execution_count": 87,
      "outputs": []
    },
    {
      "cell_type": "code",
      "source": [
        "cov = np.sum((X - Xm) * (Y - Ym)) / 10"
      ],
      "metadata": {
        "id": "Nh2PFfnxLoxF"
      },
      "execution_count": 88,
      "outputs": []
    },
    {
      "cell_type": "code",
      "source": [
        "cov / (Xs * Ys)"
      ],
      "metadata": {
        "colab": {
          "base_uri": "https://localhost:8080/"
        },
        "id": "K205wasqMDpU",
        "outputId": "b2a5ae29-ddd1-4819-da74-9f7299cce579"
      },
      "execution_count": 89,
      "outputs": [
        {
          "output_type": "execute_result",
          "data": {
            "text/plain": [
              "-0.286717536753156"
            ]
          },
          "metadata": {},
          "execution_count": 89
        }
      ]
    }
  ]
}