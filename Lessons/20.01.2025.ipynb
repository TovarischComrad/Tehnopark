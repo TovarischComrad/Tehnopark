{
  "nbformat": 4,
  "nbformat_minor": 0,
  "metadata": {
    "colab": {
      "provenance": []
    },
    "kernelspec": {
      "name": "python3",
      "display_name": "Python 3"
    },
    "language_info": {
      "name": "python"
    }
  },
  "cells": [
    {
      "cell_type": "code",
      "execution_count": 1,
      "metadata": {
        "id": "z5cG-YTyXZFY"
      },
      "outputs": [],
      "source": [
        "import numpy as np\n",
        "import matplotlib.pyplot as plt"
      ]
    },
    {
      "cell_type": "code",
      "source": [
        "def f(x):\n",
        "  return x / 2 + 2"
      ],
      "metadata": {
        "id": "ZQnE7sBJX87D"
      },
      "execution_count": 2,
      "outputs": []
    },
    {
      "cell_type": "code",
      "source": [
        "def g(x):\n",
        "  return x + 1 / 2"
      ],
      "metadata": {
        "id": "ZCMY5y8SYCRw"
      },
      "execution_count": 3,
      "outputs": []
    },
    {
      "cell_type": "code",
      "source": [
        "x = np.array([2, 3, 6])\n",
        "y = np.array([2, 4, 4])\n",
        "y_pred1 = f(x)\n",
        "y_pred2 = g(x)"
      ],
      "metadata": {
        "id": "4RA0lfF_Xrs2"
      },
      "execution_count": null,
      "outputs": []
    },
    {
      "cell_type": "code",
      "source": [
        "plt.scatter(x, y)\n",
        "plt.plot(x, y_pred1, 'g')\n",
        "plt.plot(x, y_pred2, 'r')"
      ],
      "metadata": {
        "colab": {
          "base_uri": "https://localhost:8080/",
          "height": 447
        },
        "id": "G5e81MiSXzCZ",
        "outputId": "8ac57b4b-7d3a-439c-957b-541dbb648e16"
      },
      "execution_count": null,
      "outputs": [
        {
          "output_type": "execute_result",
          "data": {
            "text/plain": [
              "[<matplotlib.lines.Line2D at 0x7f18d573e4d0>]"
            ]
          },
          "metadata": {},
          "execution_count": 11
        },
        {
          "output_type": "display_data",
          "data": {
            "text/plain": [
              "<Figure size 640x480 with 1 Axes>"
            ],
            "image/png": "[encoded data removed]"
          },
          "metadata": {}
        }
      ]
    },
    {
      "cell_type": "code",
      "source": [
        "def mean_absolute_error(y_true, y_pred):\n",
        "  d = abs(y_true - y_pred)\n",
        "  s = np.sum(d)\n",
        "  return s / len(y_true)"
      ],
      "metadata": {
        "id": "zPw0BMo1YXnb"
      },
      "execution_count": null,
      "outputs": []
    },
    {
      "cell_type": "code",
      "source": [
        "mean_absolute_error(y, y_pred1)"
      ],
      "metadata": {
        "colab": {
          "base_uri": "https://localhost:8080/"
        },
        "id": "zhS44XUkYpaS",
        "outputId": "49391987-8e48-4499-e4d5-4ca2c49981c0"
      },
      "execution_count": null,
      "outputs": [
        {
          "output_type": "execute_result",
          "data": {
            "text/plain": [
              "0.8333333333333334"
            ]
          },
          "metadata": {},
          "execution_count": 13
        }
      ]
    },
    {
      "cell_type": "code",
      "source": [
        "mean_absolute_error(y, y_pred2)"
      ],
      "metadata": {
        "colab": {
          "base_uri": "https://localhost:8080/"
        },
        "id": "ayY3N1DBY-yc",
        "outputId": "c9925209-1c09-4471-ce81-ed6c330eae6f"
      },
      "execution_count": null,
      "outputs": [
        {
          "output_type": "execute_result",
          "data": {
            "text/plain": [
              "1.1666666666666667"
            ]
          },
          "metadata": {},
          "execution_count": 14
        }
      ]
    },
    {
      "cell_type": "code",
      "source": [
        "k = 0\n",
        "b = -5\n",
        "\n",
        "k_min = 5\n",
        "b_min = 5\n",
        "e_min = 100000000\n",
        "\n",
        "while k <= 5:\n",
        "  while b <= 5:\n",
        "\n",
        "    y_pred = k * x + b\n",
        "    e = mean_absolute_error(y, y_pred)\n",
        "    # print(k, b, e)\n",
        "    if e < e_min:\n",
        "      e_min = e\n",
        "      k_min = k\n",
        "      b_min = b\n",
        "\n",
        "    b += 0.00001\n",
        "  k += 0.00001\n"
      ],
      "metadata": {
        "id": "-hf2D4ACZEcT"
      },
      "execution_count": null,
      "outputs": []
    },
    {
      "cell_type": "code",
      "source": [
        "k_min"
      ],
      "metadata": {
        "colab": {
          "base_uri": "https://localhost:8080/"
        },
        "id": "ILuRBGZdaIuF",
        "outputId": "ec9dc6e5-4b05-4691-b83b-4a198f7bc420"
      },
      "execution_count": null,
      "outputs": [
        {
          "output_type": "execute_result",
          "data": {
            "text/plain": [
              "0"
            ]
          },
          "metadata": {},
          "execution_count": 22
        }
      ]
    },
    {
      "cell_type": "code",
      "source": [
        "b_min"
      ],
      "metadata": {
        "colab": {
          "base_uri": "https://localhost:8080/"
        },
        "id": "0zFuwd--aMYl",
        "outputId": "01a073c0-8c06-40d5-ea83-78f9271bb830"
      },
      "execution_count": null,
      "outputs": [
        {
          "output_type": "execute_result",
          "data": {
            "text/plain": [
              "3.9999999999998965"
            ]
          },
          "metadata": {},
          "execution_count": 23
        }
      ]
    },
    {
      "cell_type": "code",
      "source": [
        "e_min"
      ],
      "metadata": {
        "colab": {
          "base_uri": "https://localhost:8080/"
        },
        "id": "5oEhDAQDaP_L",
        "outputId": "56a9594f-6a05-4c1c-c3e6-4effb2ffe773"
      },
      "execution_count": null,
      "outputs": [
        {
          "output_type": "execute_result",
          "data": {
            "text/plain": [
              "0.6666666666667012"
            ]
          },
          "metadata": {},
          "execution_count": 24
        }
      ]
    },
    {
      "cell_type": "code",
      "source": [
        "y_pred3 = k_min * x + b_min"
      ],
      "metadata": {
        "id": "C0Dd071_a_uC"
      },
      "execution_count": null,
      "outputs": []
    },
    {
      "cell_type": "code",
      "source": [
        "plt.scatter(x, y)\n",
        "plt.plot(x, y_pred1, 'g')\n",
        "plt.plot(x, y_pred2, 'r')\n",
        "plt.plot(x, y_pred3)"
      ],
      "metadata": {
        "colab": {
          "base_uri": "https://localhost:8080/",
          "height": 447
        },
        "id": "c3rPfgBobE1y",
        "outputId": "27cd050a-8267-41a3-a0a5-cf088615fbcb"
      },
      "execution_count": null,
      "outputs": [
        {
          "output_type": "execute_result",
          "data": {
            "text/plain": [
              "[<matplotlib.lines.Line2D at 0x7f1895658760>]"
            ]
          },
          "metadata": {},
          "execution_count": 27
        },
        {
          "output_type": "display_data",
          "data": {
            "text/plain": [
              "<Figure size 640x480 with 1 Axes>"
            ],
            "image/png": "[encoded data removed]"
          },
          "metadata": {}
        }
      ]
    },
    {
      "cell_type": "code",
      "source": [
        "from sklearn.linear_model import LinearRegression"
      ],
      "metadata": {
        "id": "43JJaDS2cGRv"
      },
      "execution_count": null,
      "outputs": []
    },
    {
      "cell_type": "code",
      "source": [
        "x = np.array([[2], [3], [6]])\n",
        "y = np.array([[2], [4], [4]])\n",
        "\n",
        "reg = LinearRegression().fit(x, y)\n",
        "print(reg.coef_)\n",
        "print(reg.intercept_)"
      ],
      "metadata": {
        "colab": {
          "base_uri": "https://localhost:8080/"
        },
        "id": "zj0sUPJJcTUt",
        "outputId": "522b94ce-a428-4f78-98f1-acef88d2ac2e"
      },
      "execution_count": null,
      "outputs": [
        {
          "output_type": "stream",
          "name": "stdout",
          "text": [
            "[[0.38461538]]\n",
            "[1.92307692]\n"
          ]
        }
      ]
    },
    {
      "cell_type": "code",
      "source": [
        "x = np.array([2, 3, 6])\n",
        "y = np.array([2, 4, 4])\n",
        "y_pred4 = 0.38461538 * x + 1.92307692"
      ],
      "metadata": {
        "id": "PtNVWaKhc6MZ"
      },
      "execution_count": null,
      "outputs": []
    },
    {
      "cell_type": "code",
      "source": [
        "plt.scatter(x, y)\n",
        "plt.plot(x, y_pred1, 'g')\n",
        "plt.plot(x, y_pred4, 'r')"
      ],
      "metadata": {
        "colab": {
          "base_uri": "https://localhost:8080/",
          "height": 447
        },
        "id": "wvVohxcwdCJg",
        "outputId": "45ecf465-38e7-4434-9bf8-c878e2697f9c"
      },
      "execution_count": null,
      "outputs": [
        {
          "output_type": "execute_result",
          "data": {
            "text/plain": [
              "[<matplotlib.lines.Line2D at 0x7f188dd37490>]"
            ]
          },
          "metadata": {},
          "execution_count": 37
        },
        {
          "output_type": "display_data",
          "data": {
            "text/plain": [
              "<Figure size 640x480 with 1 Axes>"
            ],
            "image/png": "[encoded data removed]"
          },
          "metadata": {}
        }
      ]
    },
    {
      "cell_type": "code",
      "source": [
        "def f(x):\n",
        "  return 2 * x + 3"
      ],
      "metadata": {
        "id": "wpEj8deTfIxB"
      },
      "execution_count": null,
      "outputs": []
    },
    {
      "cell_type": "code",
      "source": [
        "x = np.linspace(1, 100, 100)\n",
        "e = np.random.normal(0, 2, size=(1, 100))\n",
        "y = f(x) + e\n",
        "\n",
        "plt.scatter(x, y)"
      ],
      "metadata": {
        "colab": {
          "base_uri": "https://localhost:8080/",
          "height": 447
        },
        "id": "T7YLz91WeINp",
        "outputId": "0550bd1f-3aaa-4c43-b3c8-41584ca96fee"
      },
      "execution_count": 69,
      "outputs": [
        {
          "output_type": "execute_result",
          "data": {
            "text/plain": [
              "<matplotlib.collections.PathCollection at 0x7910172901d0>"
            ]
          },
          "metadata": {},
          "execution_count": 69
        },
        {
          "output_type": "display_data",
          "data": {
            "text/plain": [
              "<Figure size 640x480 with 1 Axes>"
            ],
            "image/png": "[encoded data removed]"
          },
          "metadata": {}
        }
      ]
    },
    {
      "cell_type": "code",
      "source": [
        "y[:5]"
      ],
      "metadata": {
        "colab": {
          "base_uri": "https://localhost:8080/"
        },
        "id": "8MtefYn8iLm_",
        "outputId": "42afe619-e5e5-4788-f9ff-1940d6b54666"
      },
      "execution_count": 45,
      "outputs": [
        {
          "output_type": "execute_result",
          "data": {
            "text/plain": [
              "array([[ 5.5968454 , -0.41824676,  1.42917367,  9.94052367,  8.1436967 ,\n",
              "         6.74801965,  0.0928345 , 27.79607257,  8.60827526, 20.62700188,\n",
              "         2.49803431, 19.3204096 ,  7.85147312,  5.38298495, 26.87013308,\n",
              "        12.95584335, -9.91994987, 15.00976897,  9.56502057, 13.00804165,\n",
              "        -5.49376425, 22.52449811,  8.22662676, 15.19092336, 30.91741781,\n",
              "         7.65929924,  6.66894805, 38.20626629, 27.74497367, 17.0005961 ,\n",
              "        23.27191966,  5.03202414, 34.52074076, 12.27479781, 40.22536317,\n",
              "        21.25837978, 41.8509149 , 17.01982966, 22.38270684, 33.38742359,\n",
              "        23.29514642, 20.78575632, 12.35937679, 12.69789022, 37.98412039,\n",
              "        25.2650711 , 22.1053101 , 25.43815667, 45.04628223,  5.70663092,\n",
              "        21.97089279, 37.19738868,  9.01857429, 31.09067626, 27.3086411 ,\n",
              "        33.05929113, 30.55383507, 42.98602482, 28.03622244, 28.14768603,\n",
              "        46.7910755 , 42.77275471, 47.21776493, 41.68610523, 31.78896514,\n",
              "        37.04731874, 22.78904657, 36.76453282, 36.86785783, 37.9155302 ,\n",
              "        42.55293134, 50.54633488, 24.11384552, 39.09671174, 51.74098552,\n",
              "        49.56035395, 47.64028579, 35.71819487, 32.15187125, 57.01718661,\n",
              "        62.17423431, 25.61696319, 40.14300888, 39.91646621, 48.17486662,\n",
              "        50.05914196, 41.80423621, 36.9257051 , 53.36461334, 29.4997611 ,\n",
              "        33.4917257 , 66.84427809, 41.97305132, 42.81458964, 57.82994141,\n",
              "        58.99957518, 41.2846776 , 43.04404318, 61.63171396, 51.6712646 ]])"
            ]
          },
          "metadata": {},
          "execution_count": 45
        }
      ]
    },
    {
      "cell_type": "code",
      "source": [
        "from sklearn.model_selection import train_test_split\n",
        "\n",
        "X_train, X_test, y_train, y_test = train_test_split(x, y[0], test_size=0.4, random_state=42)"
      ],
      "metadata": {
        "id": "mZdEwqtFh6MH"
      },
      "execution_count": 70,
      "outputs": []
    },
    {
      "cell_type": "code",
      "source": [
        "X_train = X_train.reshape(-1, 1)\n",
        "y_train = y_train.reshape(-1, 1)\n",
        "X_test = X_test.reshape(-1, 1)"
      ],
      "metadata": {
        "id": "ACSWFaQDfL5z"
      },
      "execution_count": 71,
      "outputs": []
    },
    {
      "cell_type": "code",
      "source": [
        "from sklearn.linear_model import LinearRegression\n",
        "\n",
        "reg = LinearRegression().fit(X_train, y_train)\n",
        "print(reg.coef_)\n",
        "print(reg.intercept_)"
      ],
      "metadata": {
        "colab": {
          "base_uri": "https://localhost:8080/"
        },
        "id": "QMayoaYBh5zo",
        "outputId": "1ebff7f2-b579-4e94-ec54-48a70eba64d6"
      },
      "execution_count": 72,
      "outputs": [
        {
          "output_type": "stream",
          "name": "stdout",
          "text": [
            "[[0.49611606]]\n",
            "[2.28902681]\n"
          ]
        }
      ]
    },
    {
      "cell_type": "code",
      "source": [
        "y_pred = reg.predict(X_test)"
      ],
      "metadata": {
        "id": "QV0Y7m8JjAe8"
      },
      "execution_count": 73,
      "outputs": []
    },
    {
      "cell_type": "code",
      "source": [
        "from sklearn.metrics import mean_absolute_error\n",
        "\n",
        "mean_absolute_error(y_test, y_pred)"
      ],
      "metadata": {
        "colab": {
          "base_uri": "https://localhost:8080/"
        },
        "id": "kvyMtVOojTM9",
        "outputId": "8c4a7198-f69c-4936-da73-e43611779ab7"
      },
      "execution_count": 74,
      "outputs": [
        {
          "output_type": "execute_result",
          "data": {
            "text/plain": [
              "1.454203740796475"
            ]
          },
          "metadata": {},
          "execution_count": 74
        }
      ]
    },
    {
      "cell_type": "code",
      "source": [
        "from sklearn.metrics import mean_squared_error\n",
        "mean_squared_error(y_test, y_pred)"
      ],
      "metadata": {
        "colab": {
          "base_uri": "https://localhost:8080/"
        },
        "id": "YITyo293jZj-",
        "outputId": "898bd041-7561-46cf-c29e-4e42cc85cbf4"
      },
      "execution_count": 68,
      "outputs": [
        {
          "output_type": "execute_result",
          "data": {
            "text/plain": [
              "82.6616857011388"
            ]
          },
          "metadata": {},
          "execution_count": 68
        }
      ]
    }
  ]
}