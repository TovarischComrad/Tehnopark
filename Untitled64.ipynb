{
  "nbformat": 4,
  "nbformat_minor": 0,
  "metadata": {
    "colab": {
      "provenance": [],
      "authorship_tag": "ABX9TyO1m7CAZQ/c/ay29VQHsaGu",
      "include_colab_link": true
    },
    "kernelspec": {
      "name": "python3",
      "display_name": "Python 3"
    },
    "language_info": {
      "name": "python"
    }
  },
  "cells": [
    {
      "cell_type": "markdown",
      "metadata": {
        "id": "view-in-github",
        "colab_type": "text"
      },
      "source": [
        "<a href=\"https://colab.research.google.com/github/TovarischComrad/Tehnopark/blob/main/Untitled64.ipynb\" target=\"_parent\"><img src=\"https://colab.research.google.com/assets/colab-badge.svg\" alt=\"Open In Colab\"/></a>"
      ]
    },
    {
      "cell_type": "code",
      "execution_count": 154,
      "metadata": {
        "id": "mcV3EgYR0lY2"
      },
      "outputs": [],
      "source": [
        "f = open('27var1A.csv')\n",
        "lst = []\n",
        "for s in f:\n",
        "    # \"9,234134\",\"1,123123\"\\n\n",
        "    pair = s.split('\",\"') # \"9,234134  1,123123\"\\n\n",
        "    pair[0] = float(pair[0][1:].replace(',', '.'))\n",
        "    pair[1] = float(pair[1][:-2].replace(',', '.'))\n",
        "    lst.append(pair)"
      ]
    },
    {
      "cell_type": "code",
      "source": [
        "lst[:5]"
      ],
      "metadata": {
        "colab": {
          "base_uri": "https://localhost:8080/"
        },
        "id": "8KLyZh5B3Hag",
        "outputId": "5cc2ab7b-b722-48c6-fe8c-b6c1a9cfc568"
      },
      "execution_count": 155,
      "outputs": [
        {
          "output_type": "execute_result",
          "data": {
            "text/plain": [
              "[[3.6188844, 24.5731466],\n",
              " [4.9476374, 23.5346546],\n",
              " [3.679564, 5.2237635],\n",
              " [3.7979013, 5.8373563],\n",
              " [4.6954071, 24.0103668]]"
            ]
          },
          "metadata": {},
          "execution_count": 155
        }
      ]
    },
    {
      "cell_type": "code",
      "source": [
        "import math\n",
        "\n",
        "def distance(P1, P2):\n",
        "    return math.sqrt((P2[0] - P1[0]) ** 2 + (P2[1] - P1[1]) ** 2)"
      ],
      "metadata": {
        "id": "dPmoc0064RO_"
      },
      "execution_count": 156,
      "outputs": []
    },
    {
      "cell_type": "code",
      "source": [
        "N = len(lst)\n",
        "N"
      ],
      "metadata": {
        "colab": {
          "base_uri": "https://localhost:8080/"
        },
        "id": "b4g7KDOB7Fib",
        "outputId": "66962113-3a26-4af6-b875-bafde32e7338"
      },
      "execution_count": 157,
      "outputs": [
        {
          "output_type": "execute_result",
          "data": {
            "text/plain": [
              "201"
            ]
          },
          "metadata": {},
          "execution_count": 157
        }
      ]
    },
    {
      "cell_type": "code",
      "source": [
        "labels = [0 for i in range(N)]\n",
        "labels[:5]"
      ],
      "metadata": {
        "colab": {
          "base_uri": "https://localhost:8080/"
        },
        "id": "o09Jidge7bb8",
        "outputId": "c31324f7-6df5-4790-f879-cd2eed764cc7"
      },
      "execution_count": 158,
      "outputs": [
        {
          "output_type": "execute_result",
          "data": {
            "text/plain": [
              "[0, 0, 0, 0, 0]"
            ]
          },
          "metadata": {},
          "execution_count": 158
        }
      ]
    },
    {
      "cell_type": "code",
      "source": [
        "def update_clusters(arr, labels, C1, C2):\n",
        "    N = len(arr)\n",
        "    for i in range(N):\n",
        "        P = arr[i]\n",
        "        d1 = distance(P, C1)\n",
        "        d2 = distance(P, C2)\n",
        "        if d1 < d2:\n",
        "            labels[i] = 0\n",
        "        else:\n",
        "            labels[i] = 1\n",
        "    return labels"
      ],
      "metadata": {
        "id": "cs0yalQx7qKa"
      },
      "execution_count": 159,
      "outputs": []
    },
    {
      "cell_type": "code",
      "source": [
        "def find_centers(arr, labels):\n",
        "    N = len(arr)\n",
        "    x0, y0, x1, y1 = 0, 0, 0, 0\n",
        "    count0 = 0\n",
        "    count1 = 0\n",
        "    for i in range(N):\n",
        "        if labels[i] == 0:\n",
        "            count0 += 1\n",
        "            x0 += arr[i][0]\n",
        "            y0 += arr[i][1]\n",
        "        else:\n",
        "            count1 += 1\n",
        "            x1 += arr[i][0]\n",
        "            y1 += arr[i][1]\n",
        "    if count0 != 0:\n",
        "        x0 = x0 / count0\n",
        "        y0 = y0 / count0\n",
        "    if count1 != 0:\n",
        "        x1 = x1 / count1\n",
        "        y1 = y1 / count1\n",
        "    C0 = [x0, y0]\n",
        "    C1 = [x1, y1]\n",
        "    return C0, C1"
      ],
      "metadata": {
        "id": "mMdEs9Lc9GfK"
      },
      "execution_count": 160,
      "outputs": []
    },
    {
      "cell_type": "code",
      "source": [
        "import random\n",
        "\n",
        "def clusterization(arr, labels, max_iter):\n",
        "    C0 = [random.randint(-5, 5), random.randint(-5, 5)]\n",
        "    C1 = [random.randint(-5, 5), random.randint(-5, 5)]\n",
        "    for i in range(max_iter):\n",
        "        labels = update_clusters(arr, labels, C0, C1)\n",
        "        C0, C1 = find_centers(arr, labels)\n",
        "    return labels"
      ],
      "metadata": {
        "id": "vp0ImTLD-GdQ"
      },
      "execution_count": 161,
      "outputs": []
    },
    {
      "cell_type": "code",
      "source": [
        "result = clusterization(lst, labels, 10)"
      ],
      "metadata": {
        "id": "ACcbOYvR-tXp"
      },
      "execution_count": 162,
      "outputs": []
    },
    {
      "cell_type": "code",
      "source": [
        "C0, C1 = find_centers(lst, result)"
      ],
      "metadata": {
        "id": "SucnGVrk_hX2"
      },
      "execution_count": 163,
      "outputs": []
    },
    {
      "cell_type": "code",
      "source": [
        "Px = int(abs((C0[0] + C1[0]) / 2) * 10000)\n",
        "Py = int(abs((C0[1] + C1[1]) / 2) * 10000)"
      ],
      "metadata": {
        "id": "k-5_q7D5_yaP"
      },
      "execution_count": 164,
      "outputs": []
    },
    {
      "cell_type": "code",
      "source": [
        "print(Px, Py)"
      ],
      "metadata": {
        "colab": {
          "base_uri": "https://localhost:8080/"
        },
        "id": "8t5JQEK5_6lM",
        "outputId": "d25dcfed-f60a-4a2e-8910-a984bdad83dc"
      },
      "execution_count": 165,
      "outputs": [
        {
          "output_type": "stream",
          "name": "stdout",
          "text": [
            "43025 148887\n"
          ]
        }
      ]
    },
    {
      "cell_type": "code",
      "source": [
        "result[:5]"
      ],
      "metadata": {
        "colab": {
          "base_uri": "https://localhost:8080/"
        },
        "id": "keaQMiZF_WUB",
        "outputId": "71691c40-95e7-4b90-d631-b89ea91defee"
      },
      "execution_count": 166,
      "outputs": [
        {
          "output_type": "execute_result",
          "data": {
            "text/plain": [
              "[1, 1, 0, 0, 1]"
            ]
          },
          "metadata": {},
          "execution_count": 166
        }
      ]
    },
    {
      "cell_type": "code",
      "source": [
        "lst1 = [[1, 2], [2, 3], [3, 4]]\n",
        "for x, y in lst1:\n",
        "  print(x, y)"
      ],
      "metadata": {
        "colab": {
          "base_uri": "https://localhost:8080/"
        },
        "id": "xnq08Vu58Kkp",
        "outputId": "fbf0152f-d98e-4543-d3ce-709efd097383"
      },
      "execution_count": 167,
      "outputs": [
        {
          "output_type": "stream",
          "name": "stdout",
          "text": [
            "1 2\n",
            "2 3\n",
            "3 4\n"
          ]
        }
      ]
    }
  ]
}