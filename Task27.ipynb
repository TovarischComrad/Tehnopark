{
  "nbformat": 4,
  "nbformat_minor": 0,
  "metadata": {
    "colab": {
      "provenance": [],
      "authorship_tag": "ABX9TyNcRCX6ZYE6RiHuJHGKV9K7",
      "include_colab_link": true
    },
    "kernelspec": {
      "name": "python3",
      "display_name": "Python 3"
    },
    "language_info": {
      "name": "python"
    }
  },
  "cells": [
    {
      "cell_type": "markdown",
      "metadata": {
        "id": "view-in-github",
        "colab_type": "text"
      },
      "source": [
        "<a href=\"https://colab.research.google.com/github/TovarischComrad/Tehnopark/blob/main/Task27.ipynb\" target=\"_parent\"><img src=\"https://colab.research.google.com/assets/colab-badge.svg\" alt=\"Open In Colab\"/></a>"
      ]
    },
    {
      "cell_type": "code",
      "execution_count": 149,
      "metadata": {
        "id": "8Q_PO8-C0aQu"
      },
      "outputs": [],
      "source": [
        "file = open('27var2A.csv')\n",
        "data = []\n",
        "for line in file:\n",
        "    s = line[1:-2].replace(',', '.').split('\".\"')\n",
        "    s = line[1:-2].replace(',', '.').split('\".\"')\n",
        "    lst = list(map(float, s))\n",
        "    data.append(lst)"
      ]
    },
    {
      "cell_type": "code",
      "source": [
        "from math import dist\n",
        "\n",
        "def clusterization(data):\n",
        "    eps = 3.141592\n",
        "    clusters = []\n",
        "    while data:\n",
        "        el = data.pop()\n",
        "        clusters.append([el])\n",
        "        for p in clusters[-1]:\n",
        "            neigh = [pt for pt in data if dist(p, pt) < eps]\n",
        "            clusters[-1] += neigh\n",
        "            for pt in neigh:\n",
        "                data.remove(pt)\n",
        "    return clusters"
      ],
      "metadata": {
        "id": "sf47eJ-57uVd"
      },
      "execution_count": 150,
      "outputs": []
    },
    {
      "cell_type": "code",
      "source": [
        "def centers(clusters):\n",
        "    cent = []\n",
        "    for cl in clusters:\n",
        "        d_min = 100000000\n",
        "        c = [0, 0]\n",
        "        for p in cl:\n",
        "            d = sum([dist(p, pt) for pt in cl])\n",
        "            if d < d_min:\n",
        "                d_min = d\n",
        "                c = p\n",
        "        cent.append(c)\n",
        "    return cent"
      ],
      "metadata": {
        "id": "W3QDraOA-Qhb"
      },
      "execution_count": 151,
      "outputs": []
    },
    {
      "cell_type": "code",
      "source": [
        "clusters = clusterization(data)\n",
        "cent = centers(clusters)"
      ],
      "metadata": {
        "id": "dkrnboC8-H7i"
      },
      "execution_count": 152,
      "outputs": []
    },
    {
      "cell_type": "code",
      "source": [
        "print(cent)"
      ],
      "metadata": {
        "colab": {
          "base_uri": "https://localhost:8080/"
        },
        "id": "mW1HLDOz_Y2f",
        "outputId": "4634d7b6-d1b4-4c5c-96a0-fd4049671a9e"
      },
      "execution_count": 153,
      "outputs": [
        {
          "output_type": "stream",
          "name": "stdout",
          "text": [
            "[[3.8423109, 5.7888122], [6.0212224, 24.2562791]]\n"
          ]
        }
      ]
    },
    {
      "cell_type": "code",
      "source": [
        "Px = int(abs(sum(p[0] for p in cent) / len(cent)) * 10000)\n",
        "Py = int(abs(sum(p[1] for p in cent) / len(cent)) * 10000)"
      ],
      "metadata": {
        "id": "Ts61Ll20A_Gl"
      },
      "execution_count": 154,
      "outputs": []
    },
    {
      "cell_type": "code",
      "source": [
        "print(Px, Py)"
      ],
      "metadata": {
        "colab": {
          "base_uri": "https://localhost:8080/"
        },
        "id": "cjfhNr8PBLjB",
        "outputId": "d6c376da-af4f-405c-f149-a308d0079015"
      },
      "execution_count": 155,
      "outputs": [
        {
          "output_type": "stream",
          "name": "stdout",
          "text": [
            "49317 150225\n"
          ]
        }
      ]
    }
  ]
}